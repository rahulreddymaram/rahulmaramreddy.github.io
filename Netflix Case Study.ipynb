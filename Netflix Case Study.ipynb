{
 "cells": [
  {
   "cell_type": "code",
   "execution_count": 1,
   "id": "8adc93dc",
   "metadata": {},
   "outputs": [],
   "source": [
    "import pandas as pd\n",
    "import numpy as np\n",
    "import matplotlib.pyplot as plt\n",
    "import seaborn as sns"
   ]
  },
  {
   "cell_type": "code",
   "execution_count": 2,
   "id": "9f7b1be5",
   "metadata": {},
   "outputs": [
    {
     "data": {
      "text/html": [
       "<div>\n",
       "<style scoped>\n",
       "    .dataframe tbody tr th:only-of-type {\n",
       "        vertical-align: middle;\n",
       "    }\n",
       "\n",
       "    .dataframe tbody tr th {\n",
       "        vertical-align: top;\n",
       "    }\n",
       "\n",
       "    .dataframe thead th {\n",
       "        text-align: right;\n",
       "    }\n",
       "</style>\n",
       "<table border=\"1\" class=\"dataframe\">\n",
       "  <thead>\n",
       "    <tr style=\"text-align: right;\">\n",
       "      <th></th>\n",
       "      <th>show_id</th>\n",
       "      <th>type</th>\n",
       "      <th>title</th>\n",
       "      <th>director</th>\n",
       "      <th>cast</th>\n",
       "      <th>country</th>\n",
       "      <th>date_added</th>\n",
       "      <th>release_year</th>\n",
       "      <th>rating</th>\n",
       "      <th>duration</th>\n",
       "      <th>listed_in</th>\n",
       "      <th>description</th>\n",
       "    </tr>\n",
       "  </thead>\n",
       "  <tbody>\n",
       "    <tr>\n",
       "      <th>0</th>\n",
       "      <td>s1</td>\n",
       "      <td>Movie</td>\n",
       "      <td>Dick Johnson Is Dead</td>\n",
       "      <td>Kirsten Johnson</td>\n",
       "      <td>NaN</td>\n",
       "      <td>United States</td>\n",
       "      <td>September 25, 2021</td>\n",
       "      <td>2020</td>\n",
       "      <td>PG-13</td>\n",
       "      <td>90 min</td>\n",
       "      <td>Documentaries</td>\n",
       "      <td>As her father nears the end of his life, filmm...</td>\n",
       "    </tr>\n",
       "    <tr>\n",
       "      <th>1</th>\n",
       "      <td>s2</td>\n",
       "      <td>TV Show</td>\n",
       "      <td>Blood &amp; Water</td>\n",
       "      <td>NaN</td>\n",
       "      <td>Ama Qamata, Khosi Ngema, Gail Mabalane, Thaban...</td>\n",
       "      <td>South Africa</td>\n",
       "      <td>September 24, 2021</td>\n",
       "      <td>2021</td>\n",
       "      <td>TV-MA</td>\n",
       "      <td>2 Seasons</td>\n",
       "      <td>International TV Shows, TV Dramas, TV Mysteries</td>\n",
       "      <td>After crossing paths at a party, a Cape Town t...</td>\n",
       "    </tr>\n",
       "    <tr>\n",
       "      <th>2</th>\n",
       "      <td>s3</td>\n",
       "      <td>TV Show</td>\n",
       "      <td>Ganglands</td>\n",
       "      <td>Julien Leclercq</td>\n",
       "      <td>Sami Bouajila, Tracy Gotoas, Samuel Jouy, Nabi...</td>\n",
       "      <td>NaN</td>\n",
       "      <td>September 24, 2021</td>\n",
       "      <td>2021</td>\n",
       "      <td>TV-MA</td>\n",
       "      <td>1 Season</td>\n",
       "      <td>Crime TV Shows, International TV Shows, TV Act...</td>\n",
       "      <td>To protect his family from a powerful drug lor...</td>\n",
       "    </tr>\n",
       "    <tr>\n",
       "      <th>3</th>\n",
       "      <td>s4</td>\n",
       "      <td>TV Show</td>\n",
       "      <td>Jailbirds New Orleans</td>\n",
       "      <td>NaN</td>\n",
       "      <td>NaN</td>\n",
       "      <td>NaN</td>\n",
       "      <td>September 24, 2021</td>\n",
       "      <td>2021</td>\n",
       "      <td>TV-MA</td>\n",
       "      <td>1 Season</td>\n",
       "      <td>Docuseries, Reality TV</td>\n",
       "      <td>Feuds, flirtations and toilet talk go down amo...</td>\n",
       "    </tr>\n",
       "    <tr>\n",
       "      <th>4</th>\n",
       "      <td>s5</td>\n",
       "      <td>TV Show</td>\n",
       "      <td>Kota Factory</td>\n",
       "      <td>NaN</td>\n",
       "      <td>Mayur More, Jitendra Kumar, Ranjan Raj, Alam K...</td>\n",
       "      <td>India</td>\n",
       "      <td>September 24, 2021</td>\n",
       "      <td>2021</td>\n",
       "      <td>TV-MA</td>\n",
       "      <td>2 Seasons</td>\n",
       "      <td>International TV Shows, Romantic TV Shows, TV ...</td>\n",
       "      <td>In a city of coaching centers known to train I...</td>\n",
       "    </tr>\n",
       "  </tbody>\n",
       "</table>\n",
       "</div>"
      ],
      "text/plain": [
       "  show_id     type                  title         director  \\\n",
       "0      s1    Movie   Dick Johnson Is Dead  Kirsten Johnson   \n",
       "1      s2  TV Show          Blood & Water              NaN   \n",
       "2      s3  TV Show              Ganglands  Julien Leclercq   \n",
       "3      s4  TV Show  Jailbirds New Orleans              NaN   \n",
       "4      s5  TV Show           Kota Factory              NaN   \n",
       "\n",
       "                                                cast        country  \\\n",
       "0                                                NaN  United States   \n",
       "1  Ama Qamata, Khosi Ngema, Gail Mabalane, Thaban...   South Africa   \n",
       "2  Sami Bouajila, Tracy Gotoas, Samuel Jouy, Nabi...            NaN   \n",
       "3                                                NaN            NaN   \n",
       "4  Mayur More, Jitendra Kumar, Ranjan Raj, Alam K...          India   \n",
       "\n",
       "           date_added  release_year rating   duration  \\\n",
       "0  September 25, 2021          2020  PG-13     90 min   \n",
       "1  September 24, 2021          2021  TV-MA  2 Seasons   \n",
       "2  September 24, 2021          2021  TV-MA   1 Season   \n",
       "3  September 24, 2021          2021  TV-MA   1 Season   \n",
       "4  September 24, 2021          2021  TV-MA  2 Seasons   \n",
       "\n",
       "                                           listed_in  \\\n",
       "0                                      Documentaries   \n",
       "1    International TV Shows, TV Dramas, TV Mysteries   \n",
       "2  Crime TV Shows, International TV Shows, TV Act...   \n",
       "3                             Docuseries, Reality TV   \n",
       "4  International TV Shows, Romantic TV Shows, TV ...   \n",
       "\n",
       "                                         description  \n",
       "0  As her father nears the end of his life, filmm...  \n",
       "1  After crossing paths at a party, a Cape Town t...  \n",
       "2  To protect his family from a powerful drug lor...  \n",
       "3  Feuds, flirtations and toilet talk go down amo...  \n",
       "4  In a city of coaching centers known to train I...  "
      ]
     },
     "execution_count": 2,
     "metadata": {},
     "output_type": "execute_result"
    }
   ],
   "source": [
    "data = pd.read_csv('archive/netflix_titles.csv')\n",
    "data.head()"
   ]
  },
  {
   "cell_type": "code",
   "execution_count": 3,
   "id": "0f9af556",
   "metadata": {},
   "outputs": [
    {
     "name": "stdout",
     "output_type": "stream",
     "text": [
      "<class 'pandas.core.frame.DataFrame'>\n",
      "RangeIndex: 8807 entries, 0 to 8806\n",
      "Data columns (total 12 columns):\n",
      " #   Column        Non-Null Count  Dtype \n",
      "---  ------        --------------  ----- \n",
      " 0   show_id       8807 non-null   object\n",
      " 1   type          8807 non-null   object\n",
      " 2   title         8807 non-null   object\n",
      " 3   director      6173 non-null   object\n",
      " 4   cast          7982 non-null   object\n",
      " 5   country       7976 non-null   object\n",
      " 6   date_added    8797 non-null   object\n",
      " 7   release_year  8807 non-null   int64 \n",
      " 8   rating        8803 non-null   object\n",
      " 9   duration      8804 non-null   object\n",
      " 10  listed_in     8807 non-null   object\n",
      " 11  description   8807 non-null   object\n",
      "dtypes: int64(1), object(11)\n",
      "memory usage: 825.8+ KB\n"
     ]
    }
   ],
   "source": [
    "data.info()"
   ]
  },
  {
   "cell_type": "code",
   "execution_count": 4,
   "id": "dcde24e7",
   "metadata": {},
   "outputs": [
    {
     "data": {
      "text/plain": [
       "show_id            0\n",
       "type               0\n",
       "title              0\n",
       "director        2634\n",
       "cast             825\n",
       "country          831\n",
       "date_added        10\n",
       "release_year       0\n",
       "rating             4\n",
       "duration           3\n",
       "listed_in          0\n",
       "description        0\n",
       "dtype: int64"
      ]
     },
     "execution_count": 4,
     "metadata": {},
     "output_type": "execute_result"
    }
   ],
   "source": [
    "data.isna().sum()"
   ]
  },
  {
   "cell_type": "markdown",
   "id": "11cc0313",
   "metadata": {},
   "source": [
    "# 1. How many records are in the dataset?"
   ]
  },
  {
   "cell_type": "code",
   "execution_count": 5,
   "id": "ca3a8593",
   "metadata": {},
   "outputs": [
    {
     "data": {
      "text/plain": [
       "8807"
      ]
     },
     "execution_count": 5,
     "metadata": {},
     "output_type": "execute_result"
    }
   ],
   "source": [
    "len(data)"
   ]
  },
  {
   "cell_type": "markdown",
   "id": "9b1310a8",
   "metadata": {},
   "source": [
    "Ans: 8807 records are present in the dataset"
   ]
  },
  {
   "cell_type": "markdown",
   "id": "f06eb526",
   "metadata": {},
   "source": [
    "# 2. How many unique types (movies/TV-shows) are present in the dataset?"
   ]
  },
  {
   "cell_type": "code",
   "execution_count": 6,
   "id": "8f95b31e",
   "metadata": {},
   "outputs": [
    {
     "data": {
      "text/plain": [
       "Movie      6131\n",
       "TV Show    2676\n",
       "Name: type, dtype: int64"
      ]
     },
     "execution_count": 6,
     "metadata": {},
     "output_type": "execute_result"
    }
   ],
   "source": [
    "data['type'].value_counts()"
   ]
  },
  {
   "cell_type": "markdown",
   "id": "09d91d7f",
   "metadata": {},
   "source": [
    "Ans: There are two types in the dataset i.e; Movies and TV shows. There are 6131 different movies and 2676 different TV Shows."
   ]
  },
  {
   "cell_type": "markdown",
   "id": "58f82d0a",
   "metadata": {},
   "source": [
    "# 3. What is the distribution of ratings (G, PG, PG-13, etc.) in the dataset?"
   ]
  },
  {
   "cell_type": "code",
   "execution_count": 7,
   "id": "8e25617f",
   "metadata": {},
   "outputs": [
    {
     "data": {
      "text/plain": [
       "<AxesSubplot:xlabel='rating', ylabel='count'>"
      ]
     },
     "execution_count": 7,
     "metadata": {},
     "output_type": "execute_result"
    },
    {
     "data": {
      "image/png": "[encoded data removed]",
      "text/plain": [
       "<Figure size 432x288 with 1 Axes>"
      ]
     },
     "metadata": {
      "needs_background": "light"
     },
     "output_type": "display_data"
    }
   ],
   "source": [
    "plt.xticks(rotation=90)\n",
    "sns.countplot(x='rating',data=data)"
   ]
  },
  {
   "cell_type": "code",
   "execution_count": 8,
   "id": "54a30457",
   "metadata": {},
   "outputs": [
    {
     "data": {
      "text/html": [
       "<div>\n",
       "<style scoped>\n",
       "    .dataframe tbody tr th:only-of-type {\n",
       "        vertical-align: middle;\n",
       "    }\n",
       "\n",
       "    .dataframe tbody tr th {\n",
       "        vertical-align: top;\n",
       "    }\n",
       "\n",
       "    .dataframe thead th {\n",
       "        text-align: right;\n",
       "    }\n",
       "</style>\n",
       "<table border=\"1\" class=\"dataframe\">\n",
       "  <thead>\n",
       "    <tr style=\"text-align: right;\">\n",
       "      <th></th>\n",
       "      <th>show_id</th>\n",
       "      <th>type</th>\n",
       "      <th>title</th>\n",
       "      <th>director</th>\n",
       "      <th>cast</th>\n",
       "      <th>country</th>\n",
       "      <th>date_added</th>\n",
       "      <th>release_year</th>\n",
       "      <th>rating</th>\n",
       "      <th>duration</th>\n",
       "      <th>listed_in</th>\n",
       "      <th>description</th>\n",
       "    </tr>\n",
       "  </thead>\n",
       "  <tbody>\n",
       "    <tr>\n",
       "      <th>5541</th>\n",
       "      <td>s5542</td>\n",
       "      <td>Movie</td>\n",
       "      <td>Louis C.K. 2017</td>\n",
       "      <td>Louis C.K.</td>\n",
       "      <td>Louis C.K.</td>\n",
       "      <td>United States</td>\n",
       "      <td>April 4, 2017</td>\n",
       "      <td>2017</td>\n",
       "      <td>74 min</td>\n",
       "      <td>NaN</td>\n",
       "      <td>Movies</td>\n",
       "      <td>Louis C.K. muses on religion, eternal love, gi...</td>\n",
       "    </tr>\n",
       "    <tr>\n",
       "      <th>5794</th>\n",
       "      <td>s5795</td>\n",
       "      <td>Movie</td>\n",
       "      <td>Louis C.K.: Hilarious</td>\n",
       "      <td>Louis C.K.</td>\n",
       "      <td>Louis C.K.</td>\n",
       "      <td>United States</td>\n",
       "      <td>September 16, 2016</td>\n",
       "      <td>2010</td>\n",
       "      <td>84 min</td>\n",
       "      <td>NaN</td>\n",
       "      <td>Movies</td>\n",
       "      <td>Emmy-winning comedy writer Louis C.K. brings h...</td>\n",
       "    </tr>\n",
       "    <tr>\n",
       "      <th>5813</th>\n",
       "      <td>s5814</td>\n",
       "      <td>Movie</td>\n",
       "      <td>Louis C.K.: Live at the Comedy Store</td>\n",
       "      <td>Louis C.K.</td>\n",
       "      <td>Louis C.K.</td>\n",
       "      <td>United States</td>\n",
       "      <td>August 15, 2016</td>\n",
       "      <td>2015</td>\n",
       "      <td>66 min</td>\n",
       "      <td>NaN</td>\n",
       "      <td>Movies</td>\n",
       "      <td>The comic puts his trademark hilarious/thought...</td>\n",
       "    </tr>\n",
       "  </tbody>\n",
       "</table>\n",
       "</div>"
      ],
      "text/plain": [
       "     show_id   type                                 title    director  \\\n",
       "5541   s5542  Movie                       Louis C.K. 2017  Louis C.K.   \n",
       "5794   s5795  Movie                 Louis C.K.: Hilarious  Louis C.K.   \n",
       "5813   s5814  Movie  Louis C.K.: Live at the Comedy Store  Louis C.K.   \n",
       "\n",
       "            cast        country          date_added  release_year  rating  \\\n",
       "5541  Louis C.K.  United States       April 4, 2017          2017  74 min   \n",
       "5794  Louis C.K.  United States  September 16, 2016          2010  84 min   \n",
       "5813  Louis C.K.  United States     August 15, 2016          2015  66 min   \n",
       "\n",
       "     duration listed_in                                        description  \n",
       "5541      NaN    Movies  Louis C.K. muses on religion, eternal love, gi...  \n",
       "5794      NaN    Movies  Emmy-winning comedy writer Louis C.K. brings h...  \n",
       "5813      NaN    Movies  The comic puts his trademark hilarious/thought...  "
      ]
     },
     "execution_count": 8,
     "metadata": {},
     "output_type": "execute_result"
    }
   ],
   "source": [
    "# 74 min,84 min and 66min dont seem like Rating\n",
    "data[data['rating'].isin(['74 min','84 min','66 min'])]"
   ]
  },
  {
   "cell_type": "code",
   "execution_count": 9,
   "id": "92fbcd1d",
   "metadata": {},
   "outputs": [
    {
     "data": {
      "text/html": [
       "<div>\n",
       "<style scoped>\n",
       "    .dataframe tbody tr th:only-of-type {\n",
       "        vertical-align: middle;\n",
       "    }\n",
       "\n",
       "    .dataframe tbody tr th {\n",
       "        vertical-align: top;\n",
       "    }\n",
       "\n",
       "    .dataframe thead th {\n",
       "        text-align: right;\n",
       "    }\n",
       "</style>\n",
       "<table border=\"1\" class=\"dataframe\">\n",
       "  <thead>\n",
       "    <tr style=\"text-align: right;\">\n",
       "      <th></th>\n",
       "      <th>show_id</th>\n",
       "      <th>type</th>\n",
       "      <th>title</th>\n",
       "      <th>director</th>\n",
       "      <th>cast</th>\n",
       "      <th>country</th>\n",
       "      <th>date_added</th>\n",
       "      <th>release_year</th>\n",
       "      <th>rating</th>\n",
       "      <th>duration</th>\n",
       "      <th>listed_in</th>\n",
       "      <th>description</th>\n",
       "    </tr>\n",
       "  </thead>\n",
       "  <tbody>\n",
       "    <tr>\n",
       "      <th>5541</th>\n",
       "      <td>s5542</td>\n",
       "      <td>Movie</td>\n",
       "      <td>Louis C.K. 2017</td>\n",
       "      <td>Louis C.K.</td>\n",
       "      <td>Louis C.K.</td>\n",
       "      <td>United States</td>\n",
       "      <td>April 4, 2017</td>\n",
       "      <td>2017</td>\n",
       "      <td>None</td>\n",
       "      <td>74 min</td>\n",
       "      <td>Movies</td>\n",
       "      <td>Louis C.K. muses on religion, eternal love, gi...</td>\n",
       "    </tr>\n",
       "    <tr>\n",
       "      <th>5794</th>\n",
       "      <td>s5795</td>\n",
       "      <td>Movie</td>\n",
       "      <td>Louis C.K.: Hilarious</td>\n",
       "      <td>Louis C.K.</td>\n",
       "      <td>Louis C.K.</td>\n",
       "      <td>United States</td>\n",
       "      <td>September 16, 2016</td>\n",
       "      <td>2010</td>\n",
       "      <td>None</td>\n",
       "      <td>84 min</td>\n",
       "      <td>Movies</td>\n",
       "      <td>Emmy-winning comedy writer Louis C.K. brings h...</td>\n",
       "    </tr>\n",
       "    <tr>\n",
       "      <th>5813</th>\n",
       "      <td>s5814</td>\n",
       "      <td>Movie</td>\n",
       "      <td>Louis C.K.: Live at the Comedy Store</td>\n",
       "      <td>Louis C.K.</td>\n",
       "      <td>Louis C.K.</td>\n",
       "      <td>United States</td>\n",
       "      <td>August 15, 2016</td>\n",
       "      <td>2015</td>\n",
       "      <td>None</td>\n",
       "      <td>66 min</td>\n",
       "      <td>Movies</td>\n",
       "      <td>The comic puts his trademark hilarious/thought...</td>\n",
       "    </tr>\n",
       "  </tbody>\n",
       "</table>\n",
       "</div>"
      ],
      "text/plain": [
       "     show_id   type                                 title    director  \\\n",
       "5541   s5542  Movie                       Louis C.K. 2017  Louis C.K.   \n",
       "5794   s5795  Movie                 Louis C.K.: Hilarious  Louis C.K.   \n",
       "5813   s5814  Movie  Louis C.K.: Live at the Comedy Store  Louis C.K.   \n",
       "\n",
       "            cast        country          date_added  release_year rating  \\\n",
       "5541  Louis C.K.  United States       April 4, 2017          2017   None   \n",
       "5794  Louis C.K.  United States  September 16, 2016          2010   None   \n",
       "5813  Louis C.K.  United States     August 15, 2016          2015   None   \n",
       "\n",
       "     duration listed_in                                        description  \n",
       "5541   74 min    Movies  Louis C.K. muses on religion, eternal love, gi...  \n",
       "5794   84 min    Movies  Emmy-winning comedy writer Louis C.K. brings h...  \n",
       "5813   66 min    Movies  The comic puts his trademark hilarious/thought...  "
      ]
     },
     "execution_count": 9,
     "metadata": {},
     "output_type": "execute_result"
    }
   ],
   "source": [
    "#updating the duration and rating of above 3 rows accordingly\n",
    "temp = [5541,5794,5813]\n",
    "for tempval in temp:\n",
    "    data.at[tempval,'duration']=data.loc[tempval,'rating']\n",
    "    data.at[tempval,'rating']=None\n",
    "data.loc[temp,:]\n"
   ]
  },
  {
   "cell_type": "code",
   "execution_count": 10,
   "id": "c7cccef5",
   "metadata": {},
   "outputs": [
    {
     "data": {
      "text/plain": [
       "<AxesSubplot:xlabel='rating', ylabel='count'>"
      ]
     },
     "execution_count": 10,
     "metadata": {},
     "output_type": "execute_result"
    },
    {
     "data": {
      "image/png": "[encoded data removed]",
      "text/plain": [
       "<Figure size 432x288 with 1 Axes>"
      ]
     },
     "metadata": {
      "needs_background": "light"
     },
     "output_type": "display_data"
    }
   ],
   "source": [
    "#3. What is the distribution of ratings (G, PG, PG-13, etc.) in the dataset?\n",
    "plt.xticks(rotation=90)\n",
    "sns.countplot(x='rating',data=data)"
   ]
  },
  {
   "cell_type": "markdown",
   "id": "14cebc47",
   "metadata": {},
   "source": [
    "# 4. What is the average duration of movies and TV-shows?"
   ]
  },
  {
   "cell_type": "code",
   "execution_count": 11,
   "id": "1c9307df",
   "metadata": {},
   "outputs": [
    {
     "data": {
      "text/plain": [
       "array(['90 min', '2 Seasons', '1 Season', '91 min', '125 min',\n",
       "       '9 Seasons', '104 min', '127 min', '4 Seasons', '67 min', '94 min',\n",
       "       '5 Seasons', '161 min', '61 min', '166 min', '147 min', '103 min',\n",
       "       '97 min', '106 min', '111 min', '3 Seasons', '110 min', '105 min',\n",
       "       '96 min', '124 min', '116 min', '98 min', '23 min', '115 min',\n",
       "       '122 min', '99 min', '88 min', '100 min', '6 Seasons', '102 min',\n",
       "       '93 min', '95 min', '85 min', '83 min', '113 min', '13 min',\n",
       "       '182 min', '48 min', '145 min', '87 min', '92 min', '80 min',\n",
       "       '117 min', '128 min', '119 min', '143 min', '114 min', '118 min',\n",
       "       '108 min', '63 min', '121 min', '142 min', '154 min', '120 min',\n",
       "       '82 min', '109 min', '101 min', '86 min', '229 min', '76 min',\n",
       "       '89 min', '156 min', '112 min', '107 min', '129 min', '135 min',\n",
       "       '136 min', '165 min', '150 min', '133 min', '70 min', '84 min',\n",
       "       '140 min', '78 min', '7 Seasons', '64 min', '59 min', '139 min',\n",
       "       '69 min', '148 min', '189 min', '141 min', '130 min', '138 min',\n",
       "       '81 min', '132 min', '10 Seasons', '123 min', '65 min', '68 min',\n",
       "       '66 min', '62 min', '74 min', '131 min', '39 min', '46 min',\n",
       "       '38 min', '8 Seasons', '17 Seasons', '126 min', '155 min',\n",
       "       '159 min', '137 min', '12 min', '273 min', '36 min', '34 min',\n",
       "       '77 min', '60 min', '49 min', '58 min', '72 min', '204 min',\n",
       "       '212 min', '25 min', '73 min', '29 min', '47 min', '32 min',\n",
       "       '35 min', '71 min', '149 min', '33 min', '15 min', '54 min',\n",
       "       '224 min', '162 min', '37 min', '75 min', '79 min', '55 min',\n",
       "       '158 min', '164 min', '173 min', '181 min', '185 min', '21 min',\n",
       "       '24 min', '51 min', '151 min', '42 min', '22 min', '134 min',\n",
       "       '177 min', '13 Seasons', '52 min', '14 min', '53 min', '8 min',\n",
       "       '57 min', '28 min', '50 min', '9 min', '26 min', '45 min',\n",
       "       '171 min', '27 min', '44 min', '146 min', '20 min', '157 min',\n",
       "       '17 min', '203 min', '41 min', '30 min', '194 min', '15 Seasons',\n",
       "       '233 min', '237 min', '230 min', '195 min', '253 min', '152 min',\n",
       "       '190 min', '160 min', '208 min', '180 min', '144 min', '5 min',\n",
       "       '174 min', '170 min', '192 min', '209 min', '187 min', '172 min',\n",
       "       '16 min', '186 min', '11 min', '193 min', '176 min', '56 min',\n",
       "       '169 min', '40 min', '10 min', '3 min', '168 min', '312 min',\n",
       "       '153 min', '214 min', '31 min', '163 min', '19 min', '12 Seasons',\n",
       "       '179 min', '11 Seasons', '43 min', '200 min', '196 min', '167 min',\n",
       "       '178 min', '228 min', '18 min', '205 min', '201 min', '191 min'],\n",
       "      dtype=object)"
      ]
     },
     "execution_count": 11,
     "metadata": {},
     "output_type": "execute_result"
    }
   ],
   "source": [
    "data['duration'].unique()"
   ]
  },
  {
   "cell_type": "code",
   "execution_count": 12,
   "id": "6bcf1a9b",
   "metadata": {},
   "outputs": [
    {
     "name": "stdout",
     "output_type": "stream",
     "text": [
      "['2 Seasons' '1 Season' '9 Seasons' '4 Seasons' '5 Seasons' '3 Seasons'\n",
      " '6 Seasons' '7 Seasons' '10 Seasons' '8 Seasons' '17 Seasons'\n",
      " '13 Seasons' '15 Seasons' '12 Seasons' '11 Seasons']\n",
      "['90 min' '91 min' '125 min' '104 min' '127 min' '67 min' '94 min'\n",
      " '161 min' '61 min' '166 min' '147 min' '103 min' '97 min' '106 min'\n",
      " '111 min' '110 min' '105 min' '96 min' '124 min' '116 min' '98 min'\n",
      " '23 min' '115 min' '122 min' '99 min' '88 min' '100 min' '102 min'\n",
      " '93 min' '95 min' '85 min' '83 min' '113 min' '13 min' '182 min' '48 min'\n",
      " '145 min' '87 min' '92 min' '80 min' '117 min' '128 min' '119 min'\n",
      " '143 min' '114 min' '118 min' '108 min' '63 min' '121 min' '142 min'\n",
      " '154 min' '120 min' '82 min' '109 min' '101 min' '86 min' '229 min'\n",
      " '76 min' '89 min' '156 min' '112 min' '107 min' '129 min' '135 min'\n",
      " '136 min' '165 min' '150 min' '133 min' '70 min' '84 min' '140 min'\n",
      " '78 min' '64 min' '59 min' '139 min' '69 min' '148 min' '189 min'\n",
      " '141 min' '130 min' '138 min' '81 min' '132 min' '123 min' '65 min'\n",
      " '68 min' '66 min' '62 min' '74 min' '131 min' '39 min' '46 min' '38 min'\n",
      " '126 min' '155 min' '159 min' '137 min' '12 min' '273 min' '36 min'\n",
      " '34 min' '77 min' '60 min' '49 min' '58 min' '72 min' '204 min' '212 min'\n",
      " '25 min' '73 min' '29 min' '47 min' '32 min' '35 min' '71 min' '149 min'\n",
      " '33 min' '15 min' '54 min' '224 min' '162 min' '37 min' '75 min' '79 min'\n",
      " '55 min' '158 min' '164 min' '173 min' '181 min' '185 min' '21 min'\n",
      " '24 min' '51 min' '151 min' '42 min' '22 min' '134 min' '177 min'\n",
      " '52 min' '14 min' '53 min' '8 min' '57 min' '28 min' '50 min' '9 min'\n",
      " '26 min' '45 min' '171 min' '27 min' '44 min' '146 min' '20 min'\n",
      " '157 min' '17 min' '203 min' '41 min' '30 min' '194 min' '233 min'\n",
      " '237 min' '230 min' '195 min' '253 min' '152 min' '190 min' '160 min'\n",
      " '208 min' '180 min' '144 min' '5 min' '174 min' '170 min' '192 min'\n",
      " '209 min' '187 min' '172 min' '16 min' '186 min' '11 min' '193 min'\n",
      " '176 min' '56 min' '169 min' '40 min' '10 min' '3 min' '168 min'\n",
      " '312 min' '153 min' '214 min' '31 min' '163 min' '19 min' '179 min'\n",
      " '43 min' '200 min' '196 min' '167 min' '178 min' '228 min' '18 min'\n",
      " '205 min' '201 min' '191 min']\n"
     ]
    }
   ],
   "source": [
    "print(data[data['type']=='TV Show']['duration'].unique())\n",
    "print(data[data['type']=='Movie']['duration'].unique())"
   ]
  },
  {
   "cell_type": "code",
   "execution_count": 13,
   "id": "070ac397",
   "metadata": {},
   "outputs": [],
   "source": [
    "#All the values in duration are in same format. For Tv show its 'number Season/Seasons' and for Movie its 'number min'\n",
    "#Extracting number from all values\n",
    "data['duration_num'] = data['duration'].apply(lambda x: int(x.split()[0]))"
   ]
  },
  {
   "cell_type": "code",
   "execution_count": 14,
   "id": "71ef9595",
   "metadata": {},
   "outputs": [
    {
     "name": "stdout",
     "output_type": "stream",
     "text": [
      "1.764947683109118\n",
      "99.56499755341706\n"
     ]
    }
   ],
   "source": [
    "print(data[data['type']=='TV Show']['duration_num'].mean())\n",
    "print(data[data['type']=='Movie']['duration_num'].mean())"
   ]
  },
  {
   "cell_type": "markdown",
   "id": "9b99c91f",
   "metadata": {},
   "source": [
    "Ans: Averge duration for Tv Shows is 2 seasons and for movies is 100 min approximately."
   ]
  },
  {
   "cell_type": "markdown",
   "id": "201385d9",
   "metadata": {},
   "source": [
    "# 5. Which director has the most content on Netflix?"
   ]
  },
  {
   "cell_type": "code",
   "execution_count": 15,
   "id": "790a7f09",
   "metadata": {},
   "outputs": [
    {
     "data": {
      "text/plain": [
       "Rajiv Chilaka                     19\n",
       "Raúl Campos, Jan Suter            18\n",
       "Marcus Raboy                      16\n",
       "Suhas Kadav                       16\n",
       "Jay Karas                         14\n",
       "                                  ..\n",
       "Raymie Muzquiz, Stu Livingston     1\n",
       "Joe Menendez                       1\n",
       "Eric Bross                         1\n",
       "Will Eisenberg                     1\n",
       "Mozez Singh                        1\n",
       "Name: director, Length: 4528, dtype: int64"
      ]
     },
     "execution_count": 15,
     "metadata": {},
     "output_type": "execute_result"
    }
   ],
   "source": [
    "data['director'].value_counts()"
   ]
  },
  {
   "cell_type": "markdown",
   "id": "e9f75535",
   "metadata": {},
   "source": [
    "Ans: As seen earlier 2634 are null in director column but based on the available data Rajiv Chikala has more entries in the data  set."
   ]
  },
  {
   "cell_type": "markdown",
   "id": "8e7a8c89",
   "metadata": {},
   "source": [
    "# 6. Which country produces the most content on Netflix?"
   ]
  },
  {
   "cell_type": "code",
   "execution_count": 16,
   "id": "85e8d1a1",
   "metadata": {},
   "outputs": [
    {
     "data": {
      "text/plain": [
       "United States     2818\n",
       "India              972\n",
       "United Kingdom     419\n",
       "Japan              245\n",
       "South Korea        199\n",
       "Name: country, dtype: int64"
      ]
     },
     "execution_count": 16,
     "metadata": {},
     "output_type": "execute_result"
    }
   ],
   "source": [
    "data['country'].value_counts().sort_values(ascending=False)[:5]"
   ]
  },
  {
   "cell_type": "markdown",
   "id": "5b3471e5",
   "metadata": {},
   "source": [
    "Ans: USA has the most content on Netfix than other countries."
   ]
  },
  {
   "cell_type": "markdown",
   "id": "16ffba3d",
   "metadata": {},
   "source": [
    "# 7. How has the number of content additions evolved over the years?"
   ]
  },
  {
   "cell_type": "code",
   "execution_count": 19,
   "id": "6592ae42",
   "metadata": {},
   "outputs": [],
   "source": [
    "#Replacing Nan values to apply functions to extract year\n",
    "data['date_added'].replace(np.nan, 'No Date',inplace=True)"
   ]
  },
  {
   "cell_type": "code",
   "execution_count": 52,
   "id": "0713f303",
   "metadata": {},
   "outputs": [],
   "source": [
    "import re\n",
    "data['year_added']=data['date_added'].apply(lambda x: int(re.search(r'[1-2][0-9]{3}',x).group()) if re.search(r'[1-2][0-9]{3}',x) else None)"
   ]
  },
  {
   "cell_type": "code",
   "execution_count": 53,
   "id": "a56b93de",
   "metadata": {},
   "outputs": [
    {
     "data": {
      "text/plain": [
       "<AxesSubplot:xlabel='year_added', ylabel='count'>"
      ]
     },
     "execution_count": 53,
     "metadata": {},
     "output_type": "execute_result"
    },
    {
     "data": {
      "image/png": "[encoded data removed]",
      "text/plain": [
       "<Figure size 1080x720 with 1 Axes>"
      ]
     },
     "metadata": {
      "needs_background": "light"
     },
     "output_type": "display_data"
    }
   ],
   "source": [
    "plt.figure(figsize=(15,10))\n",
    "sns.countplot(x='year_added',data=data)"
   ]
  },
  {
   "cell_type": "markdown",
   "id": "77b31a8a",
   "metadata": {},
   "source": [
    "Ans: There has been a sudden increase after 2015 and 2016 in number additions till 2019 and then decreased slightly in 2020 and 2021"
   ]
  },
  {
   "cell_type": "markdown",
   "id": "fb621c9b",
   "metadata": {},
   "source": [
    "# 8. What are the top 5 countries with the highest average ratings?"
   ]
  },
  {
   "cell_type": "markdown",
   "id": "9f43e25a",
   "metadata": {},
   "source": [
    "Ans: Rating in the given data represents the movie certificate rating not the rating given by users. So we cannot get the highest average ratings"
   ]
  },
  {
   "cell_type": "markdown",
   "id": "585fc63a",
   "metadata": {},
   "source": [
    "# 9. What are the most common genres listed in the \"listed_in\" column?"
   ]
  },
  {
   "cell_type": "code",
   "execution_count": 116,
   "id": "399f685d",
   "metadata": {},
   "outputs": [],
   "source": [
    "data['genres']=data['listed_in'].apply(lambda x : set([_.strip() for _ in x.split(',')]))"
   ]
  },
  {
   "cell_type": "code",
   "execution_count": 118,
   "id": "8aa4bb57",
   "metadata": {},
   "outputs": [
    {
     "data": {
      "text/plain": [
       "[(2752, 'International Movies'),\n",
       " (2427, 'Dramas'),\n",
       " (1674, 'Comedies'),\n",
       " (1351, 'International TV Shows'),\n",
       " (869, 'Documentaries')]"
      ]
     },
     "execution_count": 118,
     "metadata": {},
     "output_type": "execute_result"
    }
   ],
   "source": [
    "genres_list = data['genres'].to_list()\n",
    "genres_dict = {}\n",
    "genres_set = set()\n",
    "for genres in genres_list:\n",
    "    for genre in genres:\n",
    "        if(genre in genres_set):\n",
    "            genres_dict[genre]+=1\n",
    "        else:\n",
    "            genres_dict[genre]=1\n",
    "            genres_set.add(genre)\n",
    "sorted(((v,k) for k,v in genres_dict.items()), reverse=True)[:5]"
   ]
  },
  {
   "cell_type": "markdown",
   "id": "ce2e6406",
   "metadata": {},
   "source": [
    "Ans: Most common generes listed in the listed_in column are International Movies, Dramas,Comedies,International TV Shows and Documentaries"
   ]
  },
  {
   "cell_type": "markdown",
   "id": "40cc13f3",
   "metadata": {},
   "source": [
    "# 10. What are the oldest and newest releases in the dataset?"
   ]
  },
  {
   "cell_type": "code",
   "execution_count": 25,
   "id": "eb6f615d",
   "metadata": {},
   "outputs": [
    {
     "name": "stdout",
     "output_type": "stream",
     "text": [
      "Oldest release in the dataset is in the year  1925\n",
      "Newest release in the dataset is in the year  2021\n"
     ]
    }
   ],
   "source": [
    "print('Oldest release in the dataset is in the year ',min(data['release_year']))\n",
    "print('Newest release in the dataset is in the year ',max(data['release_year']))"
   ]
  },
  {
   "cell_type": "code",
   "execution_count": 134,
   "id": "84712511",
   "metadata": {},
   "outputs": [
    {
     "data": {
      "text/plain": [
       "['Blood & Water',\n",
       " 'Ganglands',\n",
       " 'Jailbirds New Orleans',\n",
       " 'Kota Factory',\n",
       " 'Midnight Mass',\n",
       " 'My Little Pony: A New Generation',\n",
       " 'The Great British Baking Show',\n",
       " 'The Starling',\n",
       " 'Vendetta: Truth, Lies and The Mafia',\n",
       " 'Bangkok Breaking',\n",
       " 'Je Suis Karl',\n",
       " 'Confessions of an Invisible Girl',\n",
       " 'Crime Stories: India Detectives',\n",
       " 'Dear White People',\n",
       " 'Intrusion',\n",
       " 'Jaguar',\n",
       " 'Monsters Inside: The 24 Faces of Billy Milligan',\n",
       " 'Go! Go! Cory Carson: Chrissy Takes the Wheel',\n",
       " 'Love on the Spectrum',\n",
       " 'Ankahi Kahaniya',\n",
       " 'Chicago Party Aunt',\n",
       " 'Squid Game',\n",
       " 'The Father Who Moves Mountains',\n",
       " 'The Stronghold',\n",
       " 'Chhota Bheem',\n",
       " 'He-Man and the Masters of the Universe',\n",
       " 'My Heroes Were Cowboys',\n",
       " 'Castle and Castle',\n",
       " 'Nailed It',\n",
       " 'Nightbooks',\n",
       " 'Numberblocks',\n",
       " 'Schumacher',\n",
       " 'Too Hot To Handle: Latino',\n",
       " 'A StoryBots Space Adventure',\n",
       " 'Jack Whitehall: Travels with My Father',\n",
       " \"The World's Most Amazing Vacation Rentals\",\n",
       " 'You vs. Wild: Out Cold',\n",
       " 'Little Singham - Black Shadow',\n",
       " 'Tughlaq Durbar (Telugu)',\n",
       " 'Firedrake the Silver Dragon',\n",
       " 'Kate',\n",
       " 'Lucifer',\n",
       " 'Metal Shop Masters',\n",
       " 'Pokémon Master Journeys: The Series',\n",
       " 'Prey',\n",
       " 'Blood Brothers: Malcolm X & Muhammad Ali',\n",
       " 'The Women and the Murderer',\n",
       " 'Into the Night',\n",
       " 'JJ+E',\n",
       " 'The Circle',\n",
       " 'Kid Cosmic',\n",
       " 'Octonauts: Above & Beyond',\n",
       " 'On the Verge',\n",
       " 'Untold: Breaking Point',\n",
       " 'Countdown: Inspiration4 Mission to Space',\n",
       " \"Bunk'd\",\n",
       " 'Dive Club',\n",
       " 'La casa de papel',\n",
       " 'Money Heist: From Tokyo to Berlin',\n",
       " 'Sharkdog',\n",
       " 'Worth',\n",
       " 'Afterlife of the Party',\n",
       " 'Final Account',\n",
       " 'Heroes of Goo Jit Zu',\n",
       " 'Q-Force',\n",
       " 'Barbie Big City Big Dreams',\n",
       " 'Brave Animated Series',\n",
       " 'How to Be a Cowboy',\n",
       " 'Turning Point: 9/11 and the War on Terror',\n",
       " 'Sparking Joy',\n",
       " 'Untold: Crime & Penalties',\n",
       " 'Hometown Cha-Cha-Cha',\n",
       " 'The Ingenuity of the Househusband',\n",
       " 'Thimmarusu',\n",
       " 'D.P.',\n",
       " \"He's All That\",\n",
       " 'I Heart Arlo',\n",
       " 'King of Boys: The Return of the King',\n",
       " 'RIDE ON TIME',\n",
       " 'SAS: Rise of the Black Swan',\n",
       " 'Titletown High',\n",
       " 'EDENS ZERO',\n",
       " 'Family Reunion',\n",
       " 'Bob Ross: Happy Accidents, Betrayal & Greed',\n",
       " 'Clickbait',\n",
       " 'John of God: The Crimes of a Spiritual Healer',\n",
       " 'Motel Makeover',\n",
       " 'Open Your Eyes',\n",
       " 'Post Mortem: No One Dies in Skarnes',\n",
       " 'The River Runner',\n",
       " 'The Water Man',\n",
       " 'Count Me In',\n",
       " 'Oggy Oggy',\n",
       " 'Untold: Caitlyn Jenner',\n",
       " 'Boomika',\n",
       " 'Boomika (Hindi)',\n",
       " 'Boomika (Malayalam)',\n",
       " 'Boomika (Telugu)',\n",
       " 'The Witcher: Nightmare of the Wolf',\n",
       " 'Manifest',\n",
       " 'Comedy Premium League',\n",
       " 'Everything Will Be Fine',\n",
       " 'Korean Cold Noodle Rhapsody',\n",
       " 'Man in Love',\n",
       " 'Sweet Girl',\n",
       " 'The Chair',\n",
       " 'The Loud House Movie',\n",
       " 'Black Island',\n",
       " 'Go! Go! Cory Carson',\n",
       " 'Memories of a Murderer: The Nilsen Tapes',\n",
       " 'The Secret Diary of an Exchange Student',\n",
       " 'Untold: Deal With the Devil',\n",
       " 'Beckett',\n",
       " 'Brand New Cherry Flavor',\n",
       " 'Fast & Furious Spy Racers',\n",
       " 'Gone for Good',\n",
       " 'Grace and Frankie',\n",
       " 'The Kingdom',\n",
       " 'Valeria',\n",
       " 'AlRawabi School for Girls',\n",
       " \"Lokillo: Nothing's the Same\",\n",
       " 'Monster Hunter: Legends of the Guild',\n",
       " 'Bake Squad',\n",
       " 'Misha and the Wolves',\n",
       " 'The Kissing Booth 3',\n",
       " \"Gabby's Dollhouse\",\n",
       " 'I Need Romance',\n",
       " 'Untold: Malice at the Palace',\n",
       " 'SHAMAN KING',\n",
       " 'Slay',\n",
       " 'The Paper Tigers',\n",
       " 'Hit & Run',\n",
       " 'Navarasa',\n",
       " 'The Swarm',\n",
       " 'Vivo',\n",
       " 'Lady Boss: The Jackie Collins Story',\n",
       " 'Aftermath',\n",
       " 'Car Masters: Rust to Riches',\n",
       " 'Cocaine Cowboys: The Kings of Miami',\n",
       " 'Control Z',\n",
       " 'Cooking With Paris',\n",
       " 'Pray Away',\n",
       " 'Shiny_Flakes: The Teenage Drug Lord',\n",
       " 'Top Secret UFO Projects: Declassified',\n",
       " \"I missed you: Director's Cut\",\n",
       " 'Charmed',\n",
       " 'The Vault',\n",
       " 'Centaurworld',\n",
       " 'Glow Up',\n",
       " 'Myth & Mogul: John DeLorean',\n",
       " 'Outer Banks',\n",
       " 'Rurouni Kenshin: The Beginning',\n",
       " 'The Last Mercenary',\n",
       " 'Resort to Love',\n",
       " 'Transformers: War for Cybertron: Kingdom',\n",
       " 'Bartkowiak',\n",
       " 'Tattoo Redo',\n",
       " 'The Flash',\n",
       " 'The Snitch Cartel: Origins',\n",
       " 'All American',\n",
       " 'Hostage House',\n",
       " 'How to Sell Drugs Online (Fast)',\n",
       " 'Mighty Express',\n",
       " 'Mimi',\n",
       " 'Plastic Cup Boyz: Laughing My Mask Off!',\n",
       " 'A Second Chance:  Rivals!',\n",
       " 'African America',\n",
       " 'Bankrolled',\n",
       " 'Blood Red Sky',\n",
       " 'Feels Like Ishq',\n",
       " 'Kingdom: Ashin of the North',\n",
       " 'Masters of the Universe: Revelation',\n",
       " 'Revelations: The Masters of the Universe: Revelation Aftershow',\n",
       " 'Sky Rojo',\n",
       " 'The Last Letter From Your Lover',\n",
       " 'The Movies That Made Us',\n",
       " '9to5: The Story of a Movement',\n",
       " 'Cousins',\n",
       " 'Words Bubble Up Like Soda Pop',\n",
       " 'Sexy Beasts',\n",
       " 'Too Hot to Handle: Brazil',\n",
       " 'Trollhunters: Rise of the Titans',\n",
       " 'The Tambour of Retribution',\n",
       " 'Cosmic Sin',\n",
       " 'Deep',\n",
       " 'Explained',\n",
       " 'Fear Street Part 3: 1666',\n",
       " 'Johnny Test',\n",
       " 'Naomi Osaka',\n",
       " 'A Perfect Fit',\n",
       " 'BEASTARS',\n",
       " 'Emicida: AmarElo - Live in São Paulo',\n",
       " 'Lift Like a Girl',\n",
       " 'My Amanda',\n",
       " 'Never Have I Ever',\n",
       " 'A Classic Horror Story',\n",
       " 'Gunpowder Milkshake',\n",
       " 'Heist',\n",
       " 'My Unorthodox Life',\n",
       " 'Private Network: Who Killed Manuel Buendía?',\n",
       " 'The Guide to the Perfect Family',\n",
       " 'Bridgerton - The Afterparty',\n",
       " 'Day of Destiny',\n",
       " 'Ridley Jones',\n",
       " 'Atypical',\n",
       " 'Biohackers',\n",
       " 'Fear Street Part 2: 1978',\n",
       " 'How I Became a Superhero',\n",
       " 'How to Become a Tyrant',\n",
       " 'Last Summer',\n",
       " 'Lee Su-geun: The Sense Coach',\n",
       " 'Lethal Love',\n",
       " 'The Cook of Castamar',\n",
       " 'Virgin River',\n",
       " 'Elize Matsunaga: Once Upon a Crime',\n",
       " 'RESIDENT EVIL: Infinite Darkness',\n",
       " 'Cat People',\n",
       " 'Dogs',\n",
       " 'Major Grom: Plague Doctor',\n",
       " 'The Mire',\n",
       " 'The War Next-door',\n",
       " 'This Little Love Of Mine',\n",
       " 'Girl from Nowhere',\n",
       " 'I Think You Should Leave with Tim Robinson',\n",
       " \"Kim's Convenience\",\n",
       " 'Shtisel',\n",
       " 'The A List',\n",
       " \"Workin' Moms\",\n",
       " 'You Are My Spring',\n",
       " 'We the People',\n",
       " 'Fear Street Part 1: 1994',\n",
       " 'Haseen Dillruba',\n",
       " 'The 8th Night',\n",
       " 'Audible',\n",
       " 'Dynasty Warriors',\n",
       " 'Generation 56k',\n",
       " 'Masameer County',\n",
       " 'Mobile Suit Gundam Hathaway',\n",
       " 'Young Royals',\n",
       " 'America: The Motion Picture',\n",
       " 'Mommy Issues',\n",
       " 'Prime Time',\n",
       " 'Somos.',\n",
       " 'Sophie: A Murder in West Cork',\n",
       " 'StarBeam',\n",
       " 'The Seven Deadly Sins',\n",
       " 'The Ice Road',\n",
       " 'Ray',\n",
       " 'Sex/Life',\n",
       " 'Godzilla Singular Point',\n",
       " 'Jiva!',\n",
       " 'Sisters on Track',\n",
       " 'The Naked Director',\n",
       " 'The Seventh Day',\n",
       " 'Good on Paper',\n",
       " 'Murder by the Coast',\n",
       " 'The House of Flowers: The Movie',\n",
       " 'The Parisian Agency: Exclusive Properties',\n",
       " 'Too Hot to Handle',\n",
       " 'This Is Pop',\n",
       " 'Nevertheless,',\n",
       " 'Black Lightning',\n",
       " 'Why Are You Like This',\n",
       " 'A Family',\n",
       " 'Elite',\n",
       " 'Fatherhood',\n",
       " 'Hospital Playlist',\n",
       " 'Jagame Thandhiram',\n",
       " 'Rurouni Kenshin: The Final',\n",
       " 'So Not Worth It',\n",
       " 'The Rational Life',\n",
       " 'Ali & Ratu Ratu Queens',\n",
       " 'Black Summer',\n",
       " 'Elite Short Stories: Carla Samuel',\n",
       " 'Katla',\n",
       " 'Record of Ragnarok',\n",
       " 'The Gift',\n",
       " 'Elite Short Stories: Omar Ander Alexis',\n",
       " \"Let's Eat\",\n",
       " 'Penguin Town',\n",
       " 'Security',\n",
       " 'Beyond Evil',\n",
       " 'Elite Short Stories: Nadia Guzmán',\n",
       " 'Headspace: Unwind Your Mind',\n",
       " 'Power Rangers Dino Fury',\n",
       " 'Rhyme Time Town',\n",
       " 'The Reason I Jump',\n",
       " 'Elite Short Stories: Guzmán Caye Rebe',\n",
       " 'The Devil Below',\n",
       " 'Bling Empire - The Afterparty',\n",
       " 'Cobra Kai - The Afterparty',\n",
       " 'Love (ft. Marriage and Divorce)',\n",
       " 'To All the Boys: Always and Forever - The Afterparty',\n",
       " 'Lupin',\n",
       " 'Sarbath',\n",
       " 'Skater Girl',\n",
       " 'Trese',\n",
       " 'Trese After Dark',\n",
       " 'Wish Dragon',\n",
       " 'Camellia Sisters',\n",
       " 'Locombianos',\n",
       " 'Awake',\n",
       " 'Fresh, Fried & Crispy',\n",
       " 'L.A.’s Finest',\n",
       " 'Tragic Jungle',\n",
       " 'Kitty Love: An Homage to Cats',\n",
       " 'Breaking Boundaries: The Science Of Our Planet',\n",
       " 'Feel Good',\n",
       " 'Human: The World Within',\n",
       " 'Sweet & Sour',\n",
       " 'Sweet Tooth',\n",
       " \"Trippin' with the Kandasamys\",\n",
       " 'Xtreme',\n",
       " 'Alan Saldaña: Locked Up',\n",
       " \"Creator's File: GOLD\",\n",
       " 'Dancing Queens',\n",
       " 'Myriam Fares: The Journey',\n",
       " 'Pretty Guardian Sailor Moon Eternal The Movie',\n",
       " 'Summertime',\n",
       " 'Black Holes | The Edge of All We Know',\n",
       " 'Carnaval',\n",
       " 'Cocomelon',\n",
       " 'Racket Boys',\n",
       " 'Super Monsters: Once Upon a Rhyme',\n",
       " 'The Platform',\n",
       " 'Bo Burnham: Inside',\n",
       " 'One Lagos Night',\n",
       " 'Dog Gone Trouble',\n",
       " 'The Kominsky Method',\n",
       " 'The Least Expected Day: Inside the Movistar Team 2019',\n",
       " 'Word of Honor',\n",
       " 'Black Space',\n",
       " 'Blue Miracle',\n",
       " 'Eden',\n",
       " 'Ghost Lab',\n",
       " 'Ragnarok',\n",
       " 'Soy Rada: Serendipity',\n",
       " 'Baggio: The Divine Ponytail',\n",
       " 'Gatao - The Last Stray',\n",
       " 'High on the Hog: How African American Cuisine Transformed America',\n",
       " 'Nail Bomber: Manhunt',\n",
       " 'Mad for Each Other',\n",
       " 'Master of None',\n",
       " '99 Songs',\n",
       " '99 Songs (Tamil)',\n",
       " '99 Songs (Telugu)',\n",
       " 'Army of the Dead',\n",
       " 'Creating an Army of the Dead',\n",
       " 'Jurassic World Camp Cretaceous',\n",
       " 'The Neighbor',\n",
       " 'Little Singham Future mein Satakli',\n",
       " 'Special',\n",
       " 'Who Killed Sara?',\n",
       " 'Amy Tan: Unintended Memoir',\n",
       " 'Sardar Ka Grandson',\n",
       " 'Ahaan',\n",
       " 'Booba: Food Puzzle',\n",
       " 'Alma Matters',\n",
       " 'Cinema Bandi',\n",
       " 'Ferry',\n",
       " 'Halston',\n",
       " 'Haunted',\n",
       " 'I Am All Girls',\n",
       " 'Jungle Beat: The Movie',\n",
       " 'Love, Death & Robots',\n",
       " 'Move to Heaven',\n",
       " 'The Upshaws - The Afterparty',\n",
       " 'The Woman in the Window',\n",
       " 'Castlevania',\n",
       " 'Dance of the Forty One',\n",
       " 'Oxygen',\n",
       " 'The Upshaws',\n",
       " 'Use For My Talent',\n",
       " 'Money, Explained',\n",
       " 'Mine',\n",
       " 'Nayattu',\n",
       " 'Super Me',\n",
       " \"Jupiter's Legacy\",\n",
       " 'Milestone',\n",
       " 'Monster',\n",
       " 'The Circle - The Afterparty',\n",
       " 'Lava Ka Dhaava',\n",
       " 'The Sons of Sam: A Descent into Darkness',\n",
       " 'Trash Truck',\n",
       " 'Pet Stars',\n",
       " 'The Disciple',\n",
       " 'The Innocent',\n",
       " 'The Mitchells vs. The Machines',\n",
       " 'The Unremarkable Juanquini',\n",
       " 'Things Heard & Seen',\n",
       " 'Yasuke',\n",
       " 'Get the Grift',\n",
       " 'Headspace Guide to Sleep',\n",
       " 'Sexify',\n",
       " 'Fatma',\n",
       " 'Shadow and Bone - The Afterparty',\n",
       " 'Heroes: Silence and Rock & Roll',\n",
       " \"Let's Fight Ghost\",\n",
       " 'Shadow and Bone',\n",
       " 'HOMUNCULUS',\n",
       " 'Life in Color with David Attenborough',\n",
       " 'Searching For Sheela',\n",
       " 'Stowaway',\n",
       " 'Tell Me When',\n",
       " 'Zero',\n",
       " \"Izzy's Koala World\",\n",
       " 'Luis Miguel - The Series',\n",
       " 'Ajeeb Daastaans',\n",
       " 'Arlo the Alligator Boy',\n",
       " 'Bakugan: Geogan Rising',\n",
       " 'Barbie & Chelsea: The Lost Birthday',\n",
       " 'Dad Stop Embarrassing Me - The Afterparty',\n",
       " 'Love Naggers',\n",
       " 'Tuesdays & Fridays',\n",
       " 'High-Rise Invasion',\n",
       " 'Ride or Die',\n",
       " 'Dad Stop Embarrassing Me!',\n",
       " 'Fate: The Winx Saga',\n",
       " 'Law School',\n",
       " 'The Soul',\n",
       " 'Why Did You Kill Me?',\n",
       " 'My Love: Six Stories of True Love',\n",
       " 'New Gods: Nezha Reborn',\n",
       " \"Don't be the First one\",\n",
       " 'Night in Paradise',\n",
       " 'Roohi',\n",
       " 'Thunder Force',\n",
       " 'Two Distant Strangers',\n",
       " 'The Way of the Househusband',\n",
       " 'Dolly Parton: A MusiCares Tribute',\n",
       " 'The Big Day',\n",
       " 'The Wedding Coach',\n",
       " \"This Is a Robbery: The World's Biggest Art Heist\",\n",
       " 'The Last Kids on Earth: Happy Apocalypse to You',\n",
       " 'Mandela',\n",
       " 'Concrete Cowboy',\n",
       " 'Irul',\n",
       " 'Just Say Yes',\n",
       " 'Madame Claude',\n",
       " 'Magical Andes',\n",
       " 'Prank Encounters',\n",
       " 'Tersanjung the Movie',\n",
       " 'Worn Stories',\n",
       " 'Haunted: Latin America',\n",
       " '7 Yards: The Chris Norton Story',\n",
       " 'Octonauts & the Ring of Fire',\n",
       " 'Marked',\n",
       " 'A Week Away',\n",
       " 'Bad Trip',\n",
       " 'Magic for Humans Spain',\n",
       " 'Pagglait',\n",
       " 'The Irregulars',\n",
       " 'Caught by a Wave',\n",
       " \"DOTA: Dragon's Blood\",\n",
       " 'Pui Pui Molcar',\n",
       " 'Secret Magic Control Agency',\n",
       " 'Seaspiracy',\n",
       " 'Loyiso Gola: Unlearning',\n",
       " 'Men on a Mission',\n",
       " 'Navillera',\n",
       " 'Alien TV',\n",
       " 'Country Comfort',\n",
       " 'Formula 1: Drive to Survive',\n",
       " 'The Yin Yang Master',\n",
       " 'B: The Beginning',\n",
       " 'Deadly Illusions',\n",
       " 'Get the Goat',\n",
       " 'Nate Bargatze: The Greatest Average American',\n",
       " 'Operation Varsity Blues:\\xa0The\\xa0College\\xa0Admissions\\xa0Scandal',\n",
       " 'Under Suspicion: Uncovering the Wesphael Case',\n",
       " 'RebellComedy: Straight Outta the Zoo',\n",
       " 'Waffles + Mochi',\n",
       " 'Abla Fahita: Drama Queen',\n",
       " 'C/O Kaadhal',\n",
       " 'The Lost Pirate Kingdom',\n",
       " 'Zero Chill',\n",
       " 'Love Alarm',\n",
       " 'Paper Lives',\n",
       " 'Paradise PD',\n",
       " 'The One',\n",
       " 'YES DAY',\n",
       " 'Coven of Sisters',\n",
       " 'Dealer',\n",
       " 'Last Chance U: Basketball',\n",
       " 'Marriage or Mortgage',\n",
       " 'The Houseboat',\n",
       " 'Bombay Begums',\n",
       " 'Bombay Rose',\n",
       " 'Aelay',\n",
       " 'City of Ghosts',\n",
       " 'Dogwashers',\n",
       " 'Nevenka: Breaking the Silence',\n",
       " 'Pokémon Journeys: The Series',\n",
       " 'Sentinelle',\n",
       " 'Pacific Rim: The Black',\n",
       " 'Moxie',\n",
       " 'Murder Among the Mormons',\n",
       " 'Word Party',\n",
       " 'Biggie: I Got a Story to Tell',\n",
       " 'Blanche Gardin: The All-Nighter',\n",
       " 'Connected',\n",
       " 'Bigfoot Family',\n",
       " 'Crazy About Her',\n",
       " 'Ginny & Georgia - The Afterparty',\n",
       " 'The Girl on the Train',\n",
       " 'Geez & Ann',\n",
       " 'Age of Samurai: Battle for Japan',\n",
       " 'Canine Intervention',\n",
       " 'Ginny & Georgia',\n",
       " 'Two Sentence Horror Stories',\n",
       " 'Brian Regan: On the Rocks',\n",
       " 'Pelé',\n",
       " 'Red',\n",
       " 'Vincenzo',\n",
       " 'Fate: The Winx Saga - The Afterparty',\n",
       " 'I Care a Lot',\n",
       " 'Pitta Kathalu',\n",
       " 'Tribes of Europa',\n",
       " 'Hello, Me!',\n",
       " 'Sisyphus',\n",
       " 'Thus Spoke Kishibe Rohan',\n",
       " 'Amend: The Fight for America',\n",
       " 'Behind Her Eyes',\n",
       " 'MeatEater',\n",
       " 'Animals on the Loose: A You vs. Wild Movie',\n",
       " 'Booba',\n",
       " 'The Crew',\n",
       " 'Namaste Wahala',\n",
       " 'Buried by the Bernards',\n",
       " 'Hate by Dani Rovira',\n",
       " 'Nadiya Bakes',\n",
       " 'To All The Boys: Always And Forever',\n",
       " \"Xico's Journey\",\n",
       " 'Red Dot',\n",
       " 'Squared Love',\n",
       " 'Crime Scene: The Vanishing at the Cecil Hotel',\n",
       " 'The Misadventures of Hedi and Cokeman',\n",
       " 'Hache',\n",
       " 'Invisible City',\n",
       " 'Malcolm & Marie',\n",
       " 'Space Sweepers',\n",
       " 'Strip Down, Rise Up',\n",
       " 'The Yin-Yang Master: Dream Of Eternity',\n",
       " 'Firefly Lane',\n",
       " 'Tiffany Haddish Presents: They Ready',\n",
       " 'Below Zero',\n",
       " 'Finding ‘Ohana',\n",
       " 'The Dig',\n",
       " 'We Are: The Brooklyn Saints',\n",
       " 'June & Kopi',\n",
       " '50M2',\n",
       " 'Accomplice',\n",
       " 'BONDING',\n",
       " 'Penguin Bloom',\n",
       " 'Go Dog Go',\n",
       " 'Blown Away',\n",
       " 'Busted!',\n",
       " 'The White Tiger',\n",
       " 'Daughter From Another Mother',\n",
       " 'Spycraft',\n",
       " 'Hello Ninja',\n",
       " 'Bling Empire',\n",
       " 'Carmen Sandiego',\n",
       " 'Disenchantment',\n",
       " 'Outside the Wire',\n",
       " 'Tribhanga - Tedhi Medhi Crazy',\n",
       " 'What Would Sophia Loren Do?',\n",
       " 'Wish You',\n",
       " 'Night Stalker: The Hunt for a Serial Killer',\n",
       " 'Chris Rock Total Blackout: The Tamborine Extended Cut',\n",
       " 'Crack: Cocaine, Corruption & Conspiracy',\n",
       " 'Charming',\n",
       " \"Creating The Queen's Gambit\",\n",
       " 'Inside the World’s Toughest Prisons',\n",
       " 'Mighty Little Bheem: Kite Festival',\n",
       " 'Pretend It’s a City',\n",
       " 'Stuck Apart',\n",
       " 'The Idhun Chronicles',\n",
       " 'Ratones Paranoicos: The Band that Rocked Argentina',\n",
       " 'Surviving Death',\n",
       " 'History of Swear Words',\n",
       " 'Nailed It! Mexico',\n",
       " 'Cobra Kai',\n",
       " 'Dream Home Makeover',\n",
       " 'Headspace Guide to Meditation',\n",
       " 'Monarca',\n",
       " 'The Minimalists: Less Is Now',\n",
       " 'What Happened to Mr. Cha?',\n",
       " 'Hilda',\n",
       " 'Polly Pocket',\n",
       " 'Love Is Blind',\n",
       " 'Pioneers: First Women Filmmakers*',\n",
       " 'The Netflix Afterparty']"
      ]
     },
     "execution_count": 134,
     "metadata": {},
     "output_type": "execute_result"
    }
   ],
   "source": [
    "data[data['release_year'].isin([1925,2021])]['title'].to_list()"
   ]
  },
  {
   "cell_type": "markdown",
   "id": "5e65a0ff",
   "metadata": {},
   "source": [
    "Ans: Above are the oldest and newest releases from the dataset"
   ]
  },
  {
   "cell_type": "markdown",
   "id": "775222e8",
   "metadata": {},
   "source": [
    "# 11. Who are the top 5 most frequent actors/actresses in the \"cast\" column?"
   ]
  },
  {
   "cell_type": "code",
   "execution_count": 112,
   "id": "ee12795f",
   "metadata": {},
   "outputs": [],
   "source": [
    "data['cast'].replace(np.nan,'',inplace=True)"
   ]
  },
  {
   "cell_type": "code",
   "execution_count": 115,
   "id": "ef477b60",
   "metadata": {},
   "outputs": [
    {
     "data": {
      "text/plain": [
       "[(825, ''),\n",
       " (43, 'Anupam Kher'),\n",
       " (35, 'Shah Rukh Khan'),\n",
       " (33, 'Julie Tejwani'),\n",
       " (32, 'Takahiro Sakurai'),\n",
       " (32, 'Naseeruddin Shah')]"
      ]
     },
     "execution_count": 115,
     "metadata": {},
     "output_type": "execute_result"
    }
   ],
   "source": [
    "data['cast_']=data['cast'].apply(lambda x : set([_.strip() for _ in x.split(',')]))\n",
    "cast_list = data['cast_'].to_list()\n",
    "cast_dict = {}\n",
    "cast_set = set()\n",
    "for cast in cast_list:\n",
    "    for actor in cast:\n",
    "        if(actor in cast_set):\n",
    "            cast_dict[actor]+=1\n",
    "        else:\n",
    "            cast_dict[actor]=1\n",
    "            cast_set.add(actor)\n",
    "sorted(((v,k) for k,v in cast_dict.items()), reverse=True)[:6]"
   ]
  },
  {
   "cell_type": "markdown",
   "id": "7ba0ca2b",
   "metadata": {},
   "source": [
    "Top 5 Actors/Actresses are Anupam Kher, Shah Rukh Khan, Julie Tejwani, Takahiro Sakurai and Naseeruddin Shah"
   ]
  },
  {
   "cell_type": "markdown",
   "id": "532c31dc",
   "metadata": {},
   "source": [
    "# 12. How many TV-shows and movies were added to Netflix each year?"
   ]
  },
  {
   "cell_type": "code",
   "execution_count": 66,
   "id": "8691d2c9",
   "metadata": {},
   "outputs": [
    {
     "data": {
      "text/plain": [
       "<AxesSubplot:xlabel='year'>"
      ]
     },
     "execution_count": 66,
     "metadata": {},
     "output_type": "execute_result"
    },
    {
     "data": {
      "image/png": "[encoded data removed]",
      "text/plain": [
       "<Figure size 1080x720 with 1 Axes>"
      ]
     },
     "metadata": {
      "needs_background": "light"
     },
     "output_type": "display_data"
    }
   ],
   "source": [
    "movies = data[data['type']=='Movie'].groupby('year_added').count()['type']\n",
    "tv_shows = data[data['type']=='TV Show'].groupby('year_added').count()['type']\n",
    "dict_={'year':[],'tv_shows_count':[],'movies_count':[]}\n",
    "for year in range(2008,2022):\n",
    "    dict_['year'].append(year)\n",
    "    if year in movies.index:\n",
    "        dict_['movies_count'].append(movies[year])\n",
    "    else: dict_['movies_count'].append(0)\n",
    "    if year in tv_shows.index:\n",
    "        dict_['tv_shows_count'].append(tv_shows[year])\n",
    "    else: dict_['tv_shows_count'].append(0)\n",
    "df = pd.DataFrame.from_dict(dict_)\n",
    "df = df.set_index('year')\n",
    "plt.figure(figsize=(15,10))\n",
    "sns.lineplot(data=df[['tv_shows_count','movies_count']])"
   ]
  },
  {
   "cell_type": "markdown",
   "id": "8bcf1fdc",
   "metadata": {},
   "source": [
    "Ans: Above are the number of movies and tv shows added to netflix each year"
   ]
  },
  {
   "cell_type": "markdown",
   "id": "f09398d1",
   "metadata": {},
   "source": [
    "# 13. What is the distribution of release years for movies and TV-shows?"
   ]
  },
  {
   "cell_type": "code",
   "execution_count": 73,
   "id": "ae6f8634",
   "metadata": {},
   "outputs": [
    {
     "data": {
      "text/plain": [
       "<AxesSubplot:xlabel='release_year', ylabel='count'>"
      ]
     },
     "execution_count": 73,
     "metadata": {},
     "output_type": "execute_result"
    },
    {
     "data": {
      "image/png": "[encoded data removed]",
      "text/plain": [
       "<Figure size 1080x720 with 1 Axes>"
      ]
     },
     "metadata": {
      "needs_background": "light"
     },
     "output_type": "display_data"
    }
   ],
   "source": [
    "df = data.groupby(['release_year','type']).count()['show_id'].reset_index()\n",
    "df.columns=['release_year','type','count']\n",
    "plt.figure(figsize=(15,10))\n",
    "plt.xticks(rotation=90)\n",
    "sns.barplot(x='release_year',y='count',hue='type',data=df)"
   ]
  },
  {
   "cell_type": "markdown",
   "id": "da9863a0",
   "metadata": {},
   "source": [
    "Ans: No of movies are always more than no of tv shows in a year but no of movies released got decreased 2019,20and 21. No of Tv show decreased only in 2021."
   ]
  },
  {
   "cell_type": "markdown",
   "id": "3792eeec",
   "metadata": {},
   "source": [
    "# 14. What are the top 5 most common words in the \"description\" column?"
   ]
  },
  {
   "cell_type": "code",
   "execution_count": 133,
   "id": "1d6ff092",
   "metadata": {},
   "outputs": [
    {
     "data": {
      "text/plain": [
       "[(18910, ''),\n",
       " (10108, 'a'),\n",
       " (7714, 'the'),\n",
       " (6345, 'to'),\n",
       " (6319, 'and'),\n",
       " (5279, 'of')]"
      ]
     },
     "execution_count": 133,
     "metadata": {},
     "output_type": "execute_result"
    }
   ],
   "source": [
    "import re\n",
    "data['description_words']=data['description'].apply(lambda x: re.split(' |\\,|\\.|\\:|\\!|\\?',x))\n",
    "words_list = data['description_words'].to_list()\n",
    "words_dict = {}\n",
    "words_set = set()\n",
    "for words in words_list:\n",
    "    for word in words:\n",
    "        if(word in words_set):\n",
    "            words_dict[word]+=1\n",
    "        else:\n",
    "            words_dict[word]=1\n",
    "            words_set.add(word)\n",
    "sorted(((v,k) for k,v in words_dict.items()), reverse=True)[:6]"
   ]
  },
  {
   "cell_type": "markdown",
   "id": "b72160ce",
   "metadata": {},
   "source": [
    "Ans: Top 5 most common words of the description are a, the, to, and, of"
   ]
  },
  {
   "cell_type": "markdown",
   "id": "f196f919",
   "metadata": {},
   "source": [
    "# 15. Is there any correlation between the release year and the rating of content?"
   ]
  },
  {
   "cell_type": "code",
   "execution_count": 92,
   "id": "64f85ec5",
   "metadata": {},
   "outputs": [
    {
     "data": {
      "text/plain": [
       "<AxesSubplot:xlabel='release_year', ylabel='count'>"
      ]
     },
     "execution_count": 92,
     "metadata": {},
     "output_type": "execute_result"
    },
    {
     "data": {
      "image/png": "[encoded data removed]",
      "text/plain": [
       "<Figure size 1080x720 with 1 Axes>"
      ]
     },
     "metadata": {
      "needs_background": "light"
     },
     "output_type": "display_data"
    }
   ],
   "source": [
    "df = data.groupby(['release_year','rating']).count()['show_id'].reset_index()\n",
    "df.columns=['release_year','rating','count']\n",
    "plt.figure(figsize=(15,10))\n",
    "plt.xticks(rotation=90)\n",
    "palette = sns.color_palette(\"tab20\", 14)\n",
    "sns.lineplot(x='release_year',y='count',hue='rating',palette=palette,data=df)"
   ]
  },
  {
   "cell_type": "markdown",
   "id": "04cbc5c0",
   "metadata": {},
   "source": [
    "Inference: TV-14 ratings increase after year 2000 but after year 2015 sudden increase can be seen in TV-MA releases."
   ]
  },
  {
   "cell_type": "code",
   "execution_count": null,
   "id": "8419dde8",
   "metadata": {},
   "outputs": [],
   "source": []
  }
 ],
 "metadata": {
  "kernelspec": {
   "display_name": "Python 3 (ipykernel)",
   "language": "python",
   "name": "python3"
  },
  "language_info": {
   "codemirror_mode": {
    "name": "ipython",
    "version": 3
   },
   "file_extension": ".py",
   "mimetype": "text/x-python",
   "name": "python",
   "nbconvert_exporter": "python",
   "pygments_lexer": "ipython3",
   "version": "3.11.7"
  }
 },
 "nbformat": 4,
 "nbformat_minor": 5
}
